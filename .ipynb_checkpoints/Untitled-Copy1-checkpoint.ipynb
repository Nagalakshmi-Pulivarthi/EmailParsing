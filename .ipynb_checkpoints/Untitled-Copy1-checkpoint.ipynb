{
 "cells": [
  {
   "cell_type": "code",
   "execution_count": 15,
   "metadata": {},
   "outputs": [
    {
     "data": {
      "text/plain": [
       "('OK',\n",
       " [b'(\\\\HasNoChildren) \"/\" \"INBOX\"',\n",
       "  b'(\\\\HasChildren \\\\Noselect) \"/\" \"[Gmail]\"',\n",
       "  b'(\\\\All \\\\HasNoChildren) \"/\" \"[Gmail]/All Mail\"',\n",
       "  b'(\\\\Drafts \\\\HasNoChildren) \"/\" \"[Gmail]/Drafts\"',\n",
       "  b'(\\\\HasNoChildren \\\\Important) \"/\" \"[Gmail]/Important\"',\n",
       "  b'(\\\\HasNoChildren \\\\Sent) \"/\" \"[Gmail]/Sent Mail\"',\n",
       "  b'(\\\\HasNoChildren \\\\Junk) \"/\" \"[Gmail]/Spam\"',\n",
       "  b'(\\\\Flagged \\\\HasNoChildren) \"/\" \"[Gmail]/Starred\"',\n",
       "  b'(\\\\HasNoChildren \\\\Trash) \"/\" \"[Gmail]/Trash\"'])"
      ]
     },
     "execution_count": 15,
     "metadata": {},
     "output_type": "execute_result"
    }
   ],
   "source": [
    "import imaplib\n",
    "mail = imaplib.IMAP4_SSL('imap.gmail.com')\n",
    "mail.login('nagaP.stocks@gmail.com', 'n@g@2906')\n",
    "mail.list()\n",
    "# Out: list of \"folders\" aka labels in gmail.\n"
   ]
  },
  {
   "cell_type": "code",
   "execution_count": 16,
   "metadata": {},
   "outputs": [
    {
     "data": {
      "text/plain": [
       "('OK', [b'5'])"
      ]
     },
     "execution_count": 16,
     "metadata": {},
     "output_type": "execute_result"
    }
   ],
   "source": [
    "mail.select(\"INBOX\") # connect to inbox."
   ]
  },
  {
   "cell_type": "code",
   "execution_count": 17,
   "metadata": {
    "collapsed": true
   },
   "outputs": [],
   "source": [
    "result, data = mail.search(None, \"ALL\")"
   ]
  },
  {
   "cell_type": "code",
   "execution_count": 18,
   "metadata": {},
   "outputs": [],
   "source": [
    "result, data = mail.search(None, \"ALL\")\n",
    " \n",
    "ids = data[0] # data is a list.\n",
    "id_list = ids.split() # ids is a space separated string\n",
    "latest_email_id = id_list[-1] # get the latest\n",
    " \n",
    "result, data = mail.fetch(latest_email_id, \"(RFC822)\") # fetch the email body (RFC822) for the given ID\n",
    " \n",
    "raw_email = data[0][1] # here's the body, which is raw text of the whole email\n",
    "# including headers and alternate payloads"
   ]
  },
  {
   "cell_type": "code",
   "execution_count": 19,
   "metadata": {},
   "outputs": [
    {
     "data": {
      "text/plain": [
       "b'Delivered-To: nagap.stocks@gmail.com\\r\\nReceived: by 2002:aed:2967:0:0:0:0:0 with SMTP id s94csp7060907qtd;\\r\\n        Wed, 15 Jan 2020 09:27:11 -0800 (PST)\\r\\nX-Received: by 2002:a0c:d788:: with SMTP id z8mr21826234qvi.211.1579109231155;\\r\\n        Wed, 15 Jan 2020 09:27:11 -0800 (PST)\\r\\nARC-Seal: i=1; a=rsa-sha256; t=1579109231; cv=none;\\r\\n        d=google.com; s=arc-20160816;\\r\\n        b=PVsb3XyjX4sWzLDZ5iuy3keP0/Cmt2bcGSmNvsqnyvlkWkSJIF7ZIYywtybeB787Fa\\r\\n         /hct2J6liBmkjv5FT8tqT/HVo0PJcAnO6KgzjfA1XUi8KIaYazjRABgpOqQWR+vzPqky\\r\\n         PVByP8He9/a8dJnN56c0FCC2Q9Jei0eLFhJBl01w3dVmDnuMZsO2hpKI4T0dV84A5t9t\\r\\n         PYB2F/J4KPnbMcKdWzLYrT/WLwomIi+TWvcmlM5lmyQDvOpt4qHB66M+3GyZX8fvUefP\\r\\n         rSX7bmfnSr3AIu6DGejBcVJF/blbWuYwCeEkB5my8jA0lcWdLHMBwkMYki7vEKeLPNon\\r\\n         KGXg==\\r\\nARC-Message-Signature: i=1; a=rsa-sha256; c=relaxed/relaxed; d=google.com; s=arc-20160816;\\r\\n        h=importance:date:subject:from:to:mime-version:message-id\\r\\n         :dkim-signature;\\r\\n        bh=uJXYbqIKSF/3yRToeNlGLs2TtPzsTUXmdSAcp0l2BRo=;\\r\\n        b=Y3XZKYzXaT8pEswX8TJx4cyuNjP/8kHV+whuQQSTsKWjqIYOMMbf2vZLe5YbUn+8Ja\\r\\n         vFZEMNS3lE4wJ9OEVmhAcK71fJSOhuP5BEmucWMQrv4sDJet6Wh2IPnRZpMz1bdclRO5\\r\\n         RZCYeYGecmO9fYQMsGJNrmkfRpJbNo602/Z45Vpggf4FWeCq00KAQEBDljmYpX9LDWGm\\r\\n         UcfmiLP4tj9vIMcY6YvdrrbWAmJ1+D6lGkzhYHbOVxhPGCc/q1V6i28v0AEcjEfCTHUv\\r\\n         oUpoG2plM7Cs03d81Fmoc8G9loqfC+QJGL9Brm7mTdSA8+8/P4aDq7rsHxpWa0gzDsTn\\r\\n         SBww==\\r\\nARC-Authentication-Results: i=1; mx.google.com;\\r\\n       dkim=pass header.i=@gmail.com header.s=20161025 header.b=KTuyQXBv;\\r\\n       spf=pass (google.com: domain of nagalakshmi.pulivarthi@gmail.com designates 209.85.220.41 as permitted sender) smtp.mailfrom=nagalakshmi.pulivarthi@gmail.com;\\r\\n       dmarc=pass (p=NONE sp=QUARANTINE dis=NONE) header.from=gmail.com\\r\\nReturn-Path: <nagalakshmi.pulivarthi@gmail.com>\\r\\nReceived: from mail-sor-f41.google.com (mail-sor-f41.google.com. [209.85.220.41])\\r\\n        by mx.google.com with SMTPS id x10sor14855213qvs.17.2020.01.15.09.27.11\\r\\n        for <nagaP.stocks@gmail.com>\\r\\n        (Google Transport Security);\\r\\n        Wed, 15 Jan 2020 09:27:11 -0800 (PST)\\r\\nReceived-SPF: pass (google.com: domain of nagalakshmi.pulivarthi@gmail.com designates 209.85.220.41 as permitted sender) client-ip=209.85.220.41;\\r\\nAuthentication-Results: mx.google.com;\\r\\n       dkim=pass header.i=@gmail.com header.s=20161025 header.b=KTuyQXBv;\\r\\n       spf=pass (google.com: domain of nagalakshmi.pulivarthi@gmail.com designates 209.85.220.41 as permitted sender) smtp.mailfrom=nagalakshmi.pulivarthi@gmail.com;\\r\\n       dmarc=pass (p=NONE sp=QUARANTINE dis=NONE) header.from=gmail.com\\r\\nDKIM-Signature: v=1; a=rsa-sha256; c=relaxed/relaxed;\\r\\n        d=gmail.com; s=20161025;\\r\\n        h=message-id:mime-version:to:from:subject:date:importance;\\r\\n        bh=uJXYbqIKSF/3yRToeNlGLs2TtPzsTUXmdSAcp0l2BRo=;\\r\\n        b=KTuyQXBvB7nzsCN7zSG3PbXcWU1SPf6oDCb9xVaa7UVgOsAU2cANXbOhXQM+MNFet1\\r\\n         QQlsnRLmdwCWqJT6Z2fryTSjFF+JE50wGe8RoKd7Wvn5defVGmvYgsNGtT12LYS2N1/C\\r\\n         VUJTiZq0GIH8EpK5Q4nzbwRDFd1/Rxt4HBSmPIVRq3OFo1+6/TuiiPk3qOZKizY3BacX\\r\\n         zENS9dP/rXiQF8xh+C0ciTdERlvKcrncgpc+5/KeYG9MSnUiDbYisqZWk4UwdDfwoFVC\\r\\n         9MTOxvdliv6xqxlrwFY9dYwj5dM4BJrfGc6Cc0k14vLDTrcxKLf+0m3IF8jpOd7HhiiH\\r\\n         bsdA==\\r\\nX-Google-DKIM-Signature: v=1; a=rsa-sha256; c=relaxed/relaxed;\\r\\n        d=1e100.net; s=20161025;\\r\\n        h=x-gm-message-state:message-id:mime-version:to:from:subject:date\\r\\n         :importance;\\r\\n        bh=uJXYbqIKSF/3yRToeNlGLs2TtPzsTUXmdSAcp0l2BRo=;\\r\\n        b=X37wswlMm7/LwlXHrAVZ48RVJQy+BRKzmNuGHlud60RWSYyOCaArG7rMY2NpXDVbAV\\r\\n         1YLkNVNONwAOcEOTfHkhLVpQYGKiLiVMnnsQJN2vGIVhzLAzMJwGRIgZf4sDQekz1LpF\\r\\n         EN4Aq5tkrRJzWQyfZjEbYye8cM2Nkxzszyg7JO0UAJlHihCgcl2dEV3fm+Y1H+8D4xig\\r\\n         WfnURg/w5NDlEVYgtZU5LCQIxDPTYSifigp8wl6+aR15zH5HtFbhDD2eYbpS4xaOQ2J/\\r\\n         f6Rj3jOlmV37pmOyLAVrKK0EeBZTsMniEb4pqCMzX62FQ5tB0GpvD3wjw9HX26P45j8r\\r\\n         fTgg==\\r\\nX-Gm-Message-State: APjAAAUQOJLrQK1Jukp3poLOP0NijgJM1W70p9sEbc8uZrtx4pOxQZh0\\r\\n\\tJH8I2XTZmsR2Es5coDoEvT3K5VPSJX8=\\r\\nX-Google-Smtp-Source: APXvYqxj/8ecYmGRshkSOfarI5jko8gjNHRXHomV7Er1ZNuEbL+kc/Bwa59yN+hht9Rag26pR+C7MQ==\\r\\nX-Received: by 2002:ad4:580b:: with SMTP id dd11mr22926036qvb.242.1579109230725;\\r\\n        Wed, 15 Jan 2020 09:27:10 -0800 (PST)\\r\\nReturn-Path: <nagalakshmi.pulivarthi@gmail.com>\\r\\nReceived: from ?IPv6:::ffff:192.168.1.153? (pool-173-63-234-153.nwrknj.fios.verizon.net. [173.63.234.153])\\r\\n        by smtp.gmail.com with ESMTPSA id l33sm9879808qtf.79.2020.01.15.09.27.09\\r\\n        for <nagaP.stocks@gmail.com>\\r\\n        (version=TLS1_2 cipher=ECDHE-RSA-AES128-GCM-SHA256 bits=128/128);\\r\\n        Wed, 15 Jan 2020 09:27:10 -0800 (PST)\\r\\nMessage-ID: <5e1f4b6e.1c69fb81.ca627.c4b8@mx.google.com>\\r\\nMIME-Version: 1.0\\r\\nTo: \"nagaP.stocks@gmail.com\" <nagaP.stocks@gmail.com>\\r\\nFrom: Nagalakshmi Pulivarthi <nagalakshmi.pulivarthi@gmail.com>\\r\\nSubject: Hi\\r\\nDate: Wed, 15 Jan 2020 12:27:09 -0500\\r\\nImportance: normal\\r\\nX-Priority: 3\\r\\nContent-Type: multipart/alternative;\\r\\n\\tboundary=\"_4C7C1725-F02B-47D1-9D14-B015B7360D0A_\"\\r\\n\\r\\n--_4C7C1725-F02B-47D1-9D14-B015B7360D0A_\\r\\nContent-Transfer-Encoding: quoted-printable\\r\\nContent-Type: text/plain; charset=\"utf-8\"\\r\\n\\r\\nHi\\r\\nHow are you.\\r\\n\\r\\nThanks\\r\\nNaga=20\\r\\n\\r\\n\\r\\n--_4C7C1725-F02B-47D1-9D14-B015B7360D0A_\\r\\nContent-Transfer-Encoding: quoted-printable\\r\\nContent-Type: text/html; charset=\"utf-8\"\\r\\n\\r\\n<html xmlns:o=3D\"urn:schemas-microsoft-com:office:office\" xmlns:w=3D\"urn:sc=\\r\\nhemas-microsoft-com:office:word\" xmlns:m=3D\"http://schemas.microsoft.com/of=\\r\\nfice/2004/12/omml\" xmlns=3D\"http://www.w3.org/TR/REC-html40\"><head><meta ht=\\r\\ntp-equiv=3DContent-Type content=3D\"text/html; charset=3Dutf-8\"><meta name=\\r\\n=3DGenerator content=3D\"Microsoft Word 15 (filtered medium)\"><style><!--\\r\\n/* Font Definitions */\\r\\n@font-face\\r\\n\\t{font-family:\"Cambria Math\";\\r\\n\\tpanose-1:2 4 5 3 5 4 6 3 2 4;}\\r\\n@font-face\\r\\n\\t{font-family:Calibri;\\r\\n\\tpanose-1:2 15 5 2 2 2 4 3 2 4;}\\r\\n/* Style Definitions */\\r\\np.MsoNormal, li.MsoNormal, div.MsoNormal\\r\\n\\t{margin:0in;\\r\\n\\tmargin-bottom:.0001pt;\\r\\n\\tfont-size:11.0pt;\\r\\n\\tfont-family:\"Calibri\",sans-serif;}\\r\\n.MsoChpDefault\\r\\n\\t{mso-style-type:export-only;}\\r\\n@page WordSection1\\r\\n\\t{size:8.5in 11.0in;\\r\\n\\tmargin:1.0in 1.0in 1.0in 1.0in;}\\r\\ndiv.WordSection1\\r\\n\\t{page:WordSection1;}\\r\\n--></style></head><body lang=3DEN-US><div class=3DWordSection1><p class=3DM=\\r\\nsoNormal>Hi</p><p class=3DMsoNormal>How are you.</p><p class=3DMsoNormal><o=\\r\\n:p>&nbsp;</o:p></p><p class=3DMsoNormal>Thanks<o:p></o:p></p><p class=3DMso=\\r\\nNormal>Naga <o:p></o:p></p><p class=3DMsoNormal><o:p>&nbsp;</o:p></p></div>=\\r\\n</body></html>=\\r\\n\\r\\n--_4C7C1725-F02B-47D1-9D14-B015B7360D0A_--\\r\\n\\r\\n'"
      ]
     },
     "execution_count": 19,
     "metadata": {},
     "output_type": "execute_result"
    }
   ],
   "source": [
    "raw_email"
   ]
  },
  {
   "cell_type": "code",
   "execution_count": 20,
   "metadata": {},
   "outputs": [],
   "source": [
    "result, data = mail.uid('search', None, \"ALL\") # search and return uids instead\n",
    "latest_email_uid = data[0].split()[-1]\n",
    "result, data = mail.uid('fetch', latest_email_uid, '(RFC822)')\n",
    "raw_email = data[0][1]"
   ]
  },
  {
   "cell_type": "code",
   "execution_count": 21,
   "metadata": {},
   "outputs": [
    {
     "data": {
      "text/plain": [
       "b'Delivered-To: nagap.stocks@gmail.com\\r\\nReceived: by 2002:aed:2967:0:0:0:0:0 with SMTP id s94csp7060907qtd;\\r\\n        Wed, 15 Jan 2020 09:27:11 -0800 (PST)\\r\\nX-Received: by 2002:a0c:d788:: with SMTP id z8mr21826234qvi.211.1579109231155;\\r\\n        Wed, 15 Jan 2020 09:27:11 -0800 (PST)\\r\\nARC-Seal: i=1; a=rsa-sha256; t=1579109231; cv=none;\\r\\n        d=google.com; s=arc-20160816;\\r\\n        b=PVsb3XyjX4sWzLDZ5iuy3keP0/Cmt2bcGSmNvsqnyvlkWkSJIF7ZIYywtybeB787Fa\\r\\n         /hct2J6liBmkjv5FT8tqT/HVo0PJcAnO6KgzjfA1XUi8KIaYazjRABgpOqQWR+vzPqky\\r\\n         PVByP8He9/a8dJnN56c0FCC2Q9Jei0eLFhJBl01w3dVmDnuMZsO2hpKI4T0dV84A5t9t\\r\\n         PYB2F/J4KPnbMcKdWzLYrT/WLwomIi+TWvcmlM5lmyQDvOpt4qHB66M+3GyZX8fvUefP\\r\\n         rSX7bmfnSr3AIu6DGejBcVJF/blbWuYwCeEkB5my8jA0lcWdLHMBwkMYki7vEKeLPNon\\r\\n         KGXg==\\r\\nARC-Message-Signature: i=1; a=rsa-sha256; c=relaxed/relaxed; d=google.com; s=arc-20160816;\\r\\n        h=importance:date:subject:from:to:mime-version:message-id\\r\\n         :dkim-signature;\\r\\n        bh=uJXYbqIKSF/3yRToeNlGLs2TtPzsTUXmdSAcp0l2BRo=;\\r\\n        b=Y3XZKYzXaT8pEswX8TJx4cyuNjP/8kHV+whuQQSTsKWjqIYOMMbf2vZLe5YbUn+8Ja\\r\\n         vFZEMNS3lE4wJ9OEVmhAcK71fJSOhuP5BEmucWMQrv4sDJet6Wh2IPnRZpMz1bdclRO5\\r\\n         RZCYeYGecmO9fYQMsGJNrmkfRpJbNo602/Z45Vpggf4FWeCq00KAQEBDljmYpX9LDWGm\\r\\n         UcfmiLP4tj9vIMcY6YvdrrbWAmJ1+D6lGkzhYHbOVxhPGCc/q1V6i28v0AEcjEfCTHUv\\r\\n         oUpoG2plM7Cs03d81Fmoc8G9loqfC+QJGL9Brm7mTdSA8+8/P4aDq7rsHxpWa0gzDsTn\\r\\n         SBww==\\r\\nARC-Authentication-Results: i=1; mx.google.com;\\r\\n       dkim=pass header.i=@gmail.com header.s=20161025 header.b=KTuyQXBv;\\r\\n       spf=pass (google.com: domain of nagalakshmi.pulivarthi@gmail.com designates 209.85.220.41 as permitted sender) smtp.mailfrom=nagalakshmi.pulivarthi@gmail.com;\\r\\n       dmarc=pass (p=NONE sp=QUARANTINE dis=NONE) header.from=gmail.com\\r\\nReturn-Path: <nagalakshmi.pulivarthi@gmail.com>\\r\\nReceived: from mail-sor-f41.google.com (mail-sor-f41.google.com. [209.85.220.41])\\r\\n        by mx.google.com with SMTPS id x10sor14855213qvs.17.2020.01.15.09.27.11\\r\\n        for <nagaP.stocks@gmail.com>\\r\\n        (Google Transport Security);\\r\\n        Wed, 15 Jan 2020 09:27:11 -0800 (PST)\\r\\nReceived-SPF: pass (google.com: domain of nagalakshmi.pulivarthi@gmail.com designates 209.85.220.41 as permitted sender) client-ip=209.85.220.41;\\r\\nAuthentication-Results: mx.google.com;\\r\\n       dkim=pass header.i=@gmail.com header.s=20161025 header.b=KTuyQXBv;\\r\\n       spf=pass (google.com: domain of nagalakshmi.pulivarthi@gmail.com designates 209.85.220.41 as permitted sender) smtp.mailfrom=nagalakshmi.pulivarthi@gmail.com;\\r\\n       dmarc=pass (p=NONE sp=QUARANTINE dis=NONE) header.from=gmail.com\\r\\nDKIM-Signature: v=1; a=rsa-sha256; c=relaxed/relaxed;\\r\\n        d=gmail.com; s=20161025;\\r\\n        h=message-id:mime-version:to:from:subject:date:importance;\\r\\n        bh=uJXYbqIKSF/3yRToeNlGLs2TtPzsTUXmdSAcp0l2BRo=;\\r\\n        b=KTuyQXBvB7nzsCN7zSG3PbXcWU1SPf6oDCb9xVaa7UVgOsAU2cANXbOhXQM+MNFet1\\r\\n         QQlsnRLmdwCWqJT6Z2fryTSjFF+JE50wGe8RoKd7Wvn5defVGmvYgsNGtT12LYS2N1/C\\r\\n         VUJTiZq0GIH8EpK5Q4nzbwRDFd1/Rxt4HBSmPIVRq3OFo1+6/TuiiPk3qOZKizY3BacX\\r\\n         zENS9dP/rXiQF8xh+C0ciTdERlvKcrncgpc+5/KeYG9MSnUiDbYisqZWk4UwdDfwoFVC\\r\\n         9MTOxvdliv6xqxlrwFY9dYwj5dM4BJrfGc6Cc0k14vLDTrcxKLf+0m3IF8jpOd7HhiiH\\r\\n         bsdA==\\r\\nX-Google-DKIM-Signature: v=1; a=rsa-sha256; c=relaxed/relaxed;\\r\\n        d=1e100.net; s=20161025;\\r\\n        h=x-gm-message-state:message-id:mime-version:to:from:subject:date\\r\\n         :importance;\\r\\n        bh=uJXYbqIKSF/3yRToeNlGLs2TtPzsTUXmdSAcp0l2BRo=;\\r\\n        b=X37wswlMm7/LwlXHrAVZ48RVJQy+BRKzmNuGHlud60RWSYyOCaArG7rMY2NpXDVbAV\\r\\n         1YLkNVNONwAOcEOTfHkhLVpQYGKiLiVMnnsQJN2vGIVhzLAzMJwGRIgZf4sDQekz1LpF\\r\\n         EN4Aq5tkrRJzWQyfZjEbYye8cM2Nkxzszyg7JO0UAJlHihCgcl2dEV3fm+Y1H+8D4xig\\r\\n         WfnURg/w5NDlEVYgtZU5LCQIxDPTYSifigp8wl6+aR15zH5HtFbhDD2eYbpS4xaOQ2J/\\r\\n         f6Rj3jOlmV37pmOyLAVrKK0EeBZTsMniEb4pqCMzX62FQ5tB0GpvD3wjw9HX26P45j8r\\r\\n         fTgg==\\r\\nX-Gm-Message-State: APjAAAUQOJLrQK1Jukp3poLOP0NijgJM1W70p9sEbc8uZrtx4pOxQZh0\\r\\n\\tJH8I2XTZmsR2Es5coDoEvT3K5VPSJX8=\\r\\nX-Google-Smtp-Source: APXvYqxj/8ecYmGRshkSOfarI5jko8gjNHRXHomV7Er1ZNuEbL+kc/Bwa59yN+hht9Rag26pR+C7MQ==\\r\\nX-Received: by 2002:ad4:580b:: with SMTP id dd11mr22926036qvb.242.1579109230725;\\r\\n        Wed, 15 Jan 2020 09:27:10 -0800 (PST)\\r\\nReturn-Path: <nagalakshmi.pulivarthi@gmail.com>\\r\\nReceived: from ?IPv6:::ffff:192.168.1.153? (pool-173-63-234-153.nwrknj.fios.verizon.net. [173.63.234.153])\\r\\n        by smtp.gmail.com with ESMTPSA id l33sm9879808qtf.79.2020.01.15.09.27.09\\r\\n        for <nagaP.stocks@gmail.com>\\r\\n        (version=TLS1_2 cipher=ECDHE-RSA-AES128-GCM-SHA256 bits=128/128);\\r\\n        Wed, 15 Jan 2020 09:27:10 -0800 (PST)\\r\\nMessage-ID: <5e1f4b6e.1c69fb81.ca627.c4b8@mx.google.com>\\r\\nMIME-Version: 1.0\\r\\nTo: \"nagaP.stocks@gmail.com\" <nagaP.stocks@gmail.com>\\r\\nFrom: Nagalakshmi Pulivarthi <nagalakshmi.pulivarthi@gmail.com>\\r\\nSubject: Hi\\r\\nDate: Wed, 15 Jan 2020 12:27:09 -0500\\r\\nImportance: normal\\r\\nX-Priority: 3\\r\\nContent-Type: multipart/alternative;\\r\\n\\tboundary=\"_4C7C1725-F02B-47D1-9D14-B015B7360D0A_\"\\r\\n\\r\\n--_4C7C1725-F02B-47D1-9D14-B015B7360D0A_\\r\\nContent-Transfer-Encoding: quoted-printable\\r\\nContent-Type: text/plain; charset=\"utf-8\"\\r\\n\\r\\nHi\\r\\nHow are you.\\r\\n\\r\\nThanks\\r\\nNaga=20\\r\\n\\r\\n\\r\\n--_4C7C1725-F02B-47D1-9D14-B015B7360D0A_\\r\\nContent-Transfer-Encoding: quoted-printable\\r\\nContent-Type: text/html; charset=\"utf-8\"\\r\\n\\r\\n<html xmlns:o=3D\"urn:schemas-microsoft-com:office:office\" xmlns:w=3D\"urn:sc=\\r\\nhemas-microsoft-com:office:word\" xmlns:m=3D\"http://schemas.microsoft.com/of=\\r\\nfice/2004/12/omml\" xmlns=3D\"http://www.w3.org/TR/REC-html40\"><head><meta ht=\\r\\ntp-equiv=3DContent-Type content=3D\"text/html; charset=3Dutf-8\"><meta name=\\r\\n=3DGenerator content=3D\"Microsoft Word 15 (filtered medium)\"><style><!--\\r\\n/* Font Definitions */\\r\\n@font-face\\r\\n\\t{font-family:\"Cambria Math\";\\r\\n\\tpanose-1:2 4 5 3 5 4 6 3 2 4;}\\r\\n@font-face\\r\\n\\t{font-family:Calibri;\\r\\n\\tpanose-1:2 15 5 2 2 2 4 3 2 4;}\\r\\n/* Style Definitions */\\r\\np.MsoNormal, li.MsoNormal, div.MsoNormal\\r\\n\\t{margin:0in;\\r\\n\\tmargin-bottom:.0001pt;\\r\\n\\tfont-size:11.0pt;\\r\\n\\tfont-family:\"Calibri\",sans-serif;}\\r\\n.MsoChpDefault\\r\\n\\t{mso-style-type:export-only;}\\r\\n@page WordSection1\\r\\n\\t{size:8.5in 11.0in;\\r\\n\\tmargin:1.0in 1.0in 1.0in 1.0in;}\\r\\ndiv.WordSection1\\r\\n\\t{page:WordSection1;}\\r\\n--></style></head><body lang=3DEN-US><div class=3DWordSection1><p class=3DM=\\r\\nsoNormal>Hi</p><p class=3DMsoNormal>How are you.</p><p class=3DMsoNormal><o=\\r\\n:p>&nbsp;</o:p></p><p class=3DMsoNormal>Thanks<o:p></o:p></p><p class=3DMso=\\r\\nNormal>Naga <o:p></o:p></p><p class=3DMsoNormal><o:p>&nbsp;</o:p></p></div>=\\r\\n</body></html>=\\r\\n\\r\\n--_4C7C1725-F02B-47D1-9D14-B015B7360D0A_--\\r\\n\\r\\n'"
      ]
     },
     "execution_count": 21,
     "metadata": {},
     "output_type": "execute_result"
    }
   ],
   "source": [
    "raw_email "
   ]
  },
  {
   "cell_type": "code",
   "execution_count": 27,
   "metadata": {},
   "outputs": [
    {
     "data": {
      "text/plain": [
       "bytes"
      ]
     },
     "execution_count": 27,
     "metadata": {},
     "output_type": "execute_result"
    }
   ],
   "source": [
    "type(raw_email)"
   ]
  },
  {
   "cell_type": "code",
   "execution_count": 30,
   "metadata": {},
   "outputs": [],
   "source": [
    "# from bs4 import BeautifulSoup as bs\n",
    "# # Create a Beautiful Soup object\n",
    "# soup = bs(raw_email, 'html.parser')\n",
    "# soup "
   ]
  },
  {
   "cell_type": "code",
   "execution_count": 41,
   "metadata": {},
   "outputs": [
    {
     "name": "stdout",
     "output_type": "stream",
     "text": [
      "\"nagaP.stocks@gmail.com\" <nagaP.stocks@gmail.com>\n",
      "('Nagalakshmi Pulivarthi', 'nagalakshmi.pulivarthi@gmail.com')\n",
      "[('Delivered-To', 'nagap.stocks@gmail.com'), ('Received', 'by 2002:aed:2967:0:0:0:0:0 with SMTP id s94csp7060907qtd;\\r\\n        Wed, 15 Jan 2020 09:27:11 -0800 (PST)'), ('X-Received', 'by 2002:a0c:d788:: with SMTP id z8mr21826234qvi.211.1579109231155;\\r\\n        Wed, 15 Jan 2020 09:27:11 -0800 (PST)'), ('ARC-Seal', 'i=1; a=rsa-sha256; t=1579109231; cv=none;\\r\\n        d=google.com; s=arc-20160816;\\r\\n        b=PVsb3XyjX4sWzLDZ5iuy3keP0/Cmt2bcGSmNvsqnyvlkWkSJIF7ZIYywtybeB787Fa\\r\\n         /hct2J6liBmkjv5FT8tqT/HVo0PJcAnO6KgzjfA1XUi8KIaYazjRABgpOqQWR+vzPqky\\r\\n         PVByP8He9/a8dJnN56c0FCC2Q9Jei0eLFhJBl01w3dVmDnuMZsO2hpKI4T0dV84A5t9t\\r\\n         PYB2F/J4KPnbMcKdWzLYrT/WLwomIi+TWvcmlM5lmyQDvOpt4qHB66M+3GyZX8fvUefP\\r\\n         rSX7bmfnSr3AIu6DGejBcVJF/blbWuYwCeEkB5my8jA0lcWdLHMBwkMYki7vEKeLPNon\\r\\n         KGXg=='), ('ARC-Message-Signature', 'i=1; a=rsa-sha256; c=relaxed/relaxed; d=google.com; s=arc-20160816;\\r\\n        h=importance:date:subject:from:to:mime-version:message-id\\r\\n         :dkim-signature;\\r\\n        bh=uJXYbqIKSF/3yRToeNlGLs2TtPzsTUXmdSAcp0l2BRo=;\\r\\n        b=Y3XZKYzXaT8pEswX8TJx4cyuNjP/8kHV+whuQQSTsKWjqIYOMMbf2vZLe5YbUn+8Ja\\r\\n         vFZEMNS3lE4wJ9OEVmhAcK71fJSOhuP5BEmucWMQrv4sDJet6Wh2IPnRZpMz1bdclRO5\\r\\n         RZCYeYGecmO9fYQMsGJNrmkfRpJbNo602/Z45Vpggf4FWeCq00KAQEBDljmYpX9LDWGm\\r\\n         UcfmiLP4tj9vIMcY6YvdrrbWAmJ1+D6lGkzhYHbOVxhPGCc/q1V6i28v0AEcjEfCTHUv\\r\\n         oUpoG2plM7Cs03d81Fmoc8G9loqfC+QJGL9Brm7mTdSA8+8/P4aDq7rsHxpWa0gzDsTn\\r\\n         SBww=='), ('ARC-Authentication-Results', 'i=1; mx.google.com;\\r\\n       dkim=pass header.i=@gmail.com header.s=20161025 header.b=KTuyQXBv;\\r\\n       spf=pass (google.com: domain of nagalakshmi.pulivarthi@gmail.com designates 209.85.220.41 as permitted sender) smtp.mailfrom=nagalakshmi.pulivarthi@gmail.com;\\r\\n       dmarc=pass (p=NONE sp=QUARANTINE dis=NONE) header.from=gmail.com'), ('Return-Path', '<nagalakshmi.pulivarthi@gmail.com>'), ('Received', 'from mail-sor-f41.google.com (mail-sor-f41.google.com. [209.85.220.41])\\r\\n        by mx.google.com with SMTPS id x10sor14855213qvs.17.2020.01.15.09.27.11\\r\\n        for <nagaP.stocks@gmail.com>\\r\\n        (Google Transport Security);\\r\\n        Wed, 15 Jan 2020 09:27:11 -0800 (PST)'), ('Received-SPF', 'pass (google.com: domain of nagalakshmi.pulivarthi@gmail.com designates 209.85.220.41 as permitted sender) client-ip=209.85.220.41;'), ('Authentication-Results', 'mx.google.com;\\r\\n       dkim=pass header.i=@gmail.com header.s=20161025 header.b=KTuyQXBv;\\r\\n       spf=pass (google.com: domain of nagalakshmi.pulivarthi@gmail.com designates 209.85.220.41 as permitted sender) smtp.mailfrom=nagalakshmi.pulivarthi@gmail.com;\\r\\n       dmarc=pass (p=NONE sp=QUARANTINE dis=NONE) header.from=gmail.com'), ('DKIM-Signature', 'v=1; a=rsa-sha256; c=relaxed/relaxed;\\r\\n        d=gmail.com; s=20161025;\\r\\n        h=message-id:mime-version:to:from:subject:date:importance;\\r\\n        bh=uJXYbqIKSF/3yRToeNlGLs2TtPzsTUXmdSAcp0l2BRo=;\\r\\n        b=KTuyQXBvB7nzsCN7zSG3PbXcWU1SPf6oDCb9xVaa7UVgOsAU2cANXbOhXQM+MNFet1\\r\\n         QQlsnRLmdwCWqJT6Z2fryTSjFF+JE50wGe8RoKd7Wvn5defVGmvYgsNGtT12LYS2N1/C\\r\\n         VUJTiZq0GIH8EpK5Q4nzbwRDFd1/Rxt4HBSmPIVRq3OFo1+6/TuiiPk3qOZKizY3BacX\\r\\n         zENS9dP/rXiQF8xh+C0ciTdERlvKcrncgpc+5/KeYG9MSnUiDbYisqZWk4UwdDfwoFVC\\r\\n         9MTOxvdliv6xqxlrwFY9dYwj5dM4BJrfGc6Cc0k14vLDTrcxKLf+0m3IF8jpOd7HhiiH\\r\\n         bsdA=='), ('X-Google-DKIM-Signature', 'v=1; a=rsa-sha256; c=relaxed/relaxed;\\r\\n        d=1e100.net; s=20161025;\\r\\n        h=x-gm-message-state:message-id:mime-version:to:from:subject:date\\r\\n         :importance;\\r\\n        bh=uJXYbqIKSF/3yRToeNlGLs2TtPzsTUXmdSAcp0l2BRo=;\\r\\n        b=X37wswlMm7/LwlXHrAVZ48RVJQy+BRKzmNuGHlud60RWSYyOCaArG7rMY2NpXDVbAV\\r\\n         1YLkNVNONwAOcEOTfHkhLVpQYGKiLiVMnnsQJN2vGIVhzLAzMJwGRIgZf4sDQekz1LpF\\r\\n         EN4Aq5tkrRJzWQyfZjEbYye8cM2Nkxzszyg7JO0UAJlHihCgcl2dEV3fm+Y1H+8D4xig\\r\\n         WfnURg/w5NDlEVYgtZU5LCQIxDPTYSifigp8wl6+aR15zH5HtFbhDD2eYbpS4xaOQ2J/\\r\\n         f6Rj3jOlmV37pmOyLAVrKK0EeBZTsMniEb4pqCMzX62FQ5tB0GpvD3wjw9HX26P45j8r\\r\\n         fTgg=='), ('X-Gm-Message-State', 'APjAAAUQOJLrQK1Jukp3poLOP0NijgJM1W70p9sEbc8uZrtx4pOxQZh0\\r\\n\\tJH8I2XTZmsR2Es5coDoEvT3K5VPSJX8='), ('X-Google-Smtp-Source', 'APXvYqxj/8ecYmGRshkSOfarI5jko8gjNHRXHomV7Er1ZNuEbL+kc/Bwa59yN+hht9Rag26pR+C7MQ=='), ('X-Received', 'by 2002:ad4:580b:: with SMTP id dd11mr22926036qvb.242.1579109230725;\\r\\n        Wed, 15 Jan 2020 09:27:10 -0800 (PST)'), ('Return-Path', '<nagalakshmi.pulivarthi@gmail.com>'), ('Received', 'from ?IPv6:::ffff:192.168.1.153? (pool-173-63-234-153.nwrknj.fios.verizon.net. [173.63.234.153])\\r\\n        by smtp.gmail.com with ESMTPSA id l33sm9879808qtf.79.2020.01.15.09.27.09\\r\\n        for <nagaP.stocks@gmail.com>\\r\\n        (version=TLS1_2 cipher=ECDHE-RSA-AES128-GCM-SHA256 bits=128/128);\\r\\n        Wed, 15 Jan 2020 09:27:10 -0800 (PST)'), ('Message-ID', '<5e1f4b6e.1c69fb81.ca627.c4b8@mx.google.com>'), ('MIME-Version', '1.0'), ('To', '\"nagaP.stocks@gmail.com\" <nagaP.stocks@gmail.com>'), ('From', 'Nagalakshmi Pulivarthi <nagalakshmi.pulivarthi@gmail.com>'), ('Subject', 'Hi'), ('Date', 'Wed, 15 Jan 2020 12:27:09 -0500'), ('Importance', 'normal'), ('X-Priority', '3'), ('Content-Type', 'multipart/alternative;\\r\\n\\tboundary=\"_4C7C1725-F02B-47D1-9D14-B015B7360D0A_\"')]\n"
     ]
    }
   ],
   "source": [
    "import email\n",
    "email_message = email.message_from_string(raw_email.decode(\"utf-8\"))\n",
    " \n",
    "print(email_message['To'])\n",
    " \n",
    "print (email.utils.parseaddr(email_message['From'])) # for parsing \"Yuji Tomita\" <yuji@grovemade.com>\n",
    " \n",
    "print (email_message.items()) # print all headers\n",
    " \n",
    "# note that if you want to get text content (body) and the email contains\n",
    "# multiple payloads (plaintext/ html), you must parse each message separately.\n",
    "# use something like the following: (taken from a stackoverflow post)\n"
   ]
  },
  {
   "cell_type": "code",
   "execution_count": 54,
   "metadata": {},
   "outputs": [
    {
     "name": "stdout",
     "output_type": "stream",
     "text": [
      "Hi\r\n",
      "How are you.\r\n",
      "\r\n",
      "Thanks\r\n",
      "Naga=20\r\n",
      "\r\n",
      "\n",
      "<class 'str'>\n",
      "<html xmlns:o=3D\"urn:schemas-microsoft-com:office:office\" xmlns:w=3D\"urn:sc=\r\n",
      "hemas-microsoft-com:office:word\" xmlns:m=3D\"http://schemas.microsoft.com/of=\r\n",
      "fice/2004/12/omml\" xmlns=3D\"http://www.w3.org/TR/REC-html40\"><head><meta ht=\r\n",
      "tp-equiv=3DContent-Type content=3D\"text/html; charset=3Dutf-8\"><meta name=\r\n",
      "=3DGenerator content=3D\"Microsoft Word 15 (filtered medium)\"><style><!--\r\n",
      "/* Font Definitions */\r\n",
      "@font-face\r\n",
      "\t{font-family:\"Cambria Math\";\r\n",
      "\tpanose-1:2 4 5 3 5 4 6 3 2 4;}\r\n",
      "@font-face\r\n",
      "\t{font-family:Calibri;\r\n",
      "\tpanose-1:2 15 5 2 2 2 4 3 2 4;}\r\n",
      "/* Style Definitions */\r\n",
      "p.MsoNormal, li.MsoNormal, div.MsoNormal\r\n",
      "\t{margin:0in;\r\n",
      "\tmargin-bottom:.0001pt;\r\n",
      "\tfont-size:11.0pt;\r\n",
      "\tfont-family:\"Calibri\",sans-serif;}\r\n",
      ".MsoChpDefault\r\n",
      "\t{mso-style-type:export-only;}\r\n",
      "@page WordSection1\r\n",
      "\t{size:8.5in 11.0in;\r\n",
      "\tmargin:1.0in 1.0in 1.0in 1.0in;}\r\n",
      "div.WordSection1\r\n",
      "\t{page:WordSection1;}\r\n",
      "--></style></head><body lang=3DEN-US><div class=3DWordSection1><p class=3DM=\r\n",
      "soNormal>Hi</p><p class=3DMsoNormal>How are you.</p><p class=3DMsoNormal><o=\r\n",
      ":p>&nbsp;</o:p></p><p class=3DMsoNormal>Thanks<o:p></o:p></p><p class=3DMso=\r\n",
      "Normal>Naga <o:p></o:p></p><p class=3DMsoNormal><o:p>&nbsp;</o:p></p></div>=\r\n",
      "</body></html>=\r\n",
      "\n",
      "<class 'str'>\n"
     ]
    }
   ],
   "source": [
    "maintype = email_message.get_content_maintype()\n",
    "maintype   \n",
    "for part in email_message.get_payload():\n",
    "            if part.get_content_maintype() == 'text':\n",
    "                print( part.get_payload())\n",
    "                print( type(part.get_payload()))"
   ]
  },
  {
   "cell_type": "code",
   "execution_count": 42,
   "metadata": {
    "collapsed": true
   },
   "outputs": [],
   "source": [
    "def get_first_text_block(self, email_message_instance):\n",
    "    maintype = email_message_instance.get_content_maintype()\n",
    "    if maintype == 'multipart':\n",
    "        for part in email_message_instance.get_payload():\n",
    "            if part.get_content_maintype() == 'text':\n",
    "                return part.get_payload()\n",
    "    elif maintype == 'text':\n",
    "        return email_message_instance.get_payload()"
   ]
  },
  {
   "cell_type": "code",
   "execution_count": 53,
   "metadata": {},
   "outputs": [],
   "source": [
    "# get_first_text_block(email_message)"
   ]
  },
  {
   "cell_type": "code",
   "execution_count": null,
   "metadata": {},
   "outputs": [],
   "source": [
    "for response_part in data:\n",
    "        if isinstance(response_part, tuple):\n",
    "            msg = email.message_from_string(response_part[1].decode('utf-8'))\n",
    "            email_subject = msg['subject']\n",
    "            email_from = msg['from']\n",
    "            print ('From : ' + email_from + '\\n')\n",
    "            print ('Subject : ' + email_subject + '\\n')\n",
    "            print(msg.get_payload(decode=True))"
   ]
  },
  {
   "cell_type": "code",
   "execution_count": 43,
   "metadata": {},
   "outputs": [
    {
     "data": {
      "text/plain": [
       "'Hi'"
      ]
     },
     "execution_count": 43,
     "metadata": {},
     "output_type": "execute_result"
    }
   ],
   "source": [
    "email_message['subject']"
   ]
  },
  {
   "cell_type": "code",
   "execution_count": 45,
   "metadata": {},
   "outputs": [
    {
     "data": {
      "text/plain": [
       "'Nagalakshmi Pulivarthi <nagalakshmi.pulivarthi@gmail.com>'"
      ]
     },
     "execution_count": 45,
     "metadata": {},
     "output_type": "execute_result"
    }
   ],
   "source": [
    "email_from = email_message['from']\n",
    "email_from"
   ]
  },
  {
   "cell_type": "code",
   "execution_count": 46,
   "metadata": {},
   "outputs": [
    {
     "name": "stdout",
     "output_type": "stream",
     "text": [
      "None\n"
     ]
    }
   ],
   "source": [
    "print(email_message.get_payload(decode=True))"
   ]
  },
  {
   "cell_type": "code",
   "execution_count": null,
   "metadata": {
    "collapsed": true
   },
   "outputs": [],
   "source": []
  }
 ],
 "metadata": {
  "kernelspec": {
   "display_name": "Python [conda env:PythonData]",
   "language": "python",
   "name": "conda-env-PythonData-py"
  },
  "language_info": {
   "codemirror_mode": {
    "name": "ipython",
    "version": 3
   },
   "file_extension": ".py",
   "mimetype": "text/x-python",
   "name": "python",
   "nbconvert_exporter": "python",
   "pygments_lexer": "ipython3",
   "version": "3.6.1"
  }
 },
 "nbformat": 4,
 "nbformat_minor": 2
}
