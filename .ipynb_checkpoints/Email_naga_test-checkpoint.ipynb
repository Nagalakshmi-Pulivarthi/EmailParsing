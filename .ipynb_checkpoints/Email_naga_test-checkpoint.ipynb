{
 "cells": [
  {
   "cell_type": "code",
   "execution_count": 7,
   "metadata": {},
   "outputs": [
    {
     "data": {
      "text/plain": [
       "('OK', [b'nagap.stocks@gmail.com authenticated (Success)'])"
      ]
     },
     "execution_count": 7,
     "metadata": {},
     "output_type": "execute_result"
    }
   ],
   "source": [
    "import imaplib\n",
    "import email\n",
    "mail = imaplib.IMAP4_SSL('imap.gmail.com')\n",
    "# imaplib module implements connection based on IMAPv4 protocol\n",
    "mail.login('nagaP.stocks@gmail.com', 'n@g@2906')"
   ]
  },
  {
   "cell_type": "code",
   "execution_count": 8,
   "metadata": {},
   "outputs": [
    {
     "data": {
      "text/plain": [
       "('OK', [b'9'])"
      ]
     },
     "execution_count": 8,
     "metadata": {},
     "output_type": "execute_result"
    }
   ],
   "source": [
    "mail.list() # Lists all labels in GMail\n",
    "mail.select('inbox') # Connected to inbox."
   ]
  },
  {
   "cell_type": "code",
   "execution_count": 10,
   "metadata": {},
   "outputs": [
    {
     "name": "stdout",
     "output_type": "stream",
     "text": [
      "<class '_io.TextIOWrapper'>\n",
      "<class '_io.TextIOWrapper'>\n",
      "<class '_io.TextIOWrapper'>\n",
      "<class '_io.TextIOWrapper'>\n",
      "<class '_io.TextIOWrapper'>\n",
      "<class '_io.TextIOWrapper'>\n",
      "<class '_io.TextIOWrapper'>\n",
      "<class '_io.TextIOWrapper'>\n",
      "<class '_io.TextIOWrapper'>\n"
     ]
    }
   ],
   "source": [
    "result, data = mail.uid('search', None, \"ALL\")\n",
    "# search and return uids instead\n",
    "i = len(data[0].split()) # data[0] is a space separate string\n",
    "for x in range(i):\n",
    "    latest_email_uid = data[0].split()[x] # unique ids wrt label selected\n",
    "    result, email_data = mail.uid('fetch', latest_email_uid, '(RFC822)')\n",
    " # fetch the email body (RFC822) for the given ID\n",
    "    raw_email = email_data[0][1]\n",
    "    #continue inside the same for loop as above\n",
    "    raw_email_string = raw_email.decode('utf-8')\n",
    "    # converts byte literal to string removing b''\n",
    "    email_message = email.message_from_string(raw_email_string)\n",
    "#     # this will loop through all the available multiparts in mail\n",
    "    for part in email_message.walk():\n",
    "        if part.get_content_type() == \"text/plain\": # ignore attachments/html\n",
    "            body = part.get_payload(decode=True)\n",
    "            print(body)\n",
    "            save_string = str(\"save\" + str(x) + \".html\")\n",
    "            # location on disk\n",
    "            myfile = open(save_string, 'a')\n",
    "#             print(type(myfile))\n",
    "#             myfile.write(body.decode('utf-8'))\n",
    "            # body is again a byte literal\n",
    "            myfile.close()\n",
    "        else:\n",
    "            continue"
   ]
  },
  {
   "cell_type": "code",
   "execution_count": null,
   "metadata": {
    "collapsed": true
   },
   "outputs": [],
   "source": []
  }
 ],
 "metadata": {
  "kernelspec": {
   "display_name": "Python [conda env:PythonData]",
   "language": "python",
   "name": "conda-env-PythonData-py"
  },
  "language_info": {
   "codemirror_mode": {
    "name": "ipython",
    "version": 3
   },
   "file_extension": ".py",
   "mimetype": "text/x-python",
   "name": "python",
   "nbconvert_exporter": "python",
   "pygments_lexer": "ipython3",
   "version": "3.6.1"
  }
 },
 "nbformat": 4,
 "nbformat_minor": 2
}
